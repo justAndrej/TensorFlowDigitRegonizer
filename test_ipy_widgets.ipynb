{
 "cells": [
  {
   "cell_type": "code",
   "execution_count": 16,
   "metadata": {},
   "outputs": [
    {
     "data": {
      "application/vnd.jupyter.widget-view+json": {
       "model_id": "94a9ecec5ff24b308ca8efca13be085e",
       "version_major": 2,
       "version_minor": 0
      },
      "text/plain": [
       "GridspecLayout(children=(Label(value='Draw...', layout=Layout(grid_area='widget001')), Canvas(height=300, layo…"
      ]
     },
     "metadata": {},
     "output_type": "display_data"
    }
   ],
   "source": [
    "from ipywidgets import Image\n",
    "\n",
    "from ipywidgets import link, AppLayout, GridspecLayout \n",
    "\n",
    "from ipycanvas import Canvas, hold_canvas, RoughCanvas\n",
    "\n",
    "import ipywidgets as widgets\n",
    " \n",
    "drawing = False\n",
    "    \n",
    "def clear_all(arg):\n",
    "        canvas.clear()\n",
    " \n",
    "def classify_handwriting(arg):\n",
    "        label.value = 'classified'\n",
    "    \n",
    "def on_mouse_down(x, y):\n",
    "        global drawing\n",
    "        drawing = True\n",
    "        canvas.fill_circle(x,y,8)\n",
    "\n",
    "def on_mouse_move(x, y):\n",
    "        global drawing\n",
    "        if not drawing:\n",
    "            return\n",
    "        canvas.fill_circle(x,y,8)\n",
    "\n",
    "def on_mouse_up(x, y):\n",
    "      global drawing\n",
    "      drawing = False\n",
    "\n",
    "canvas = Canvas(width = 300, height = 300)\n",
    "label = widgets.Label(\"Draw...\")\n",
    "classify_btn = widgets.Button(\n",
    "            description='Опознать',\n",
    "            disabled=False,\n",
    "            button_style='', \n",
    "            tooltip='recognize digit'\n",
    "        )\n",
    "classify_btn.on_click(classify_handwriting)\n",
    " \n",
    "button_clear = widgets.Button(\n",
    "            description='Очистить',\n",
    "            disabled=False,\n",
    "            button_style='', \n",
    "            tooltip='clear digit'\n",
    "        )\n",
    "button_clear.on_click(clear_all)\n",
    "        \n",
    "        \n",
    "canvas.on_mouse_down(on_mouse_down)\n",
    "canvas.on_mouse_move(on_mouse_move)\n",
    "canvas.on_mouse_up(on_mouse_up)\n",
    "\n",
    "canvas.stroke_style = '#000000'\n",
    "canvas.fill_style = '#000000'\n",
    "        \n",
    "grid = GridspecLayout(4, 3, height='300px')\n",
    "\n",
    "grid[:3, 1:] = label\n",
    "grid[:, 0] = canvas\n",
    "grid[3, 1] = button_clear\n",
    "grid[3, 2] = classify_btn\n",
    "\n",
    "grid"
   ]
  },
  {
   "cell_type": "code",
   "execution_count": null,
   "metadata": {},
   "outputs": [],
   "source": []
  }
 ],
 "metadata": {
  "kernelspec": {
   "display_name": "Python 3",
   "language": "python",
   "name": "python3"
  },
  "language_info": {
   "codemirror_mode": {
    "name": "ipython",
    "version": 3
   },
   "file_extension": ".py",
   "mimetype": "text/x-python",
   "name": "python",
   "nbconvert_exporter": "python",
   "pygments_lexer": "ipython3",
   "version": "3.7.10"
  }
 },
 "nbformat": 4,
 "nbformat_minor": 4
}
